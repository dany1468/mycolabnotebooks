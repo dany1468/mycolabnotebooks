{
  "nbformat": 4,
  "nbformat_minor": 0,
  "metadata": {
    "colab": {
      "name": "GamePrograminngCpp_Appendix.ipynb",
      "provenance": [],
      "collapsed_sections": [],
      "authorship_tag": "ABX9TyP7Ql3UT296c5gXg2oJfjxo",
      "include_colab_link": true
    },
    "kernelspec": {
      "name": "python3",
      "display_name": "Python 3"
    },
    "language_info": {
      "name": "python"
    }
  },
  "cells": [
    {
      "cell_type": "markdown",
      "metadata": {
        "id": "view-in-github",
        "colab_type": "text"
      },
      "source": [
        "<a href=\"https://colab.research.google.com/github/dany1468/mycolabnotebooks/blob/main/GamePrograminngCpp_Appendix.ipynb\" target=\"_parent\"><img src=\"https://colab.research.google.com/assets/colab-badge.svg\" alt=\"Open In Colab\"/></a>"
      ]
    },
    {
      "cell_type": "code",
      "execution_count": null,
      "metadata": {
        "colab": {
          "base_uri": "https://localhost:8080/"
        },
        "id": "SDSQDMj9CDag",
        "outputId": "b94ca06c-2b57-4d48-ec8f-11804136e072"
      },
      "outputs": [
        {
          "output_type": "stream",
          "name": "stdout",
          "text": [
            "g++ (Ubuntu 7.5.0-3ubuntu1~18.04) 7.5.0\n",
            "Copyright (C) 2017 Free Software Foundation, Inc.\n",
            "This is free software; see the source for copying conditions.  There is NO\n",
            "warranty; not even for MERCHANTABILITY or FITNESS FOR A PARTICULAR PURPOSE.\n",
            "\n"
          ]
        }
      ],
      "source": [
        "!g++ --version"
      ]
    },
    {
      "cell_type": "markdown",
      "source": [
        "## 引数の参照渡しの確認"
      ],
      "metadata": {
        "id": "-wSA24Ca8T3k"
      }
    },
    {
      "cell_type": "code",
      "source": [
        "%%writefile temp.cpp\n",
        "#include <iostream>\n",
        "using namespace std;\n",
        "\n",
        "void Swap(int a, int b)\n",
        "{\n",
        "  cout << \"Swap 内 a:\" << a << \" / b:\" << b << endl;\n",
        "  int temp = a;\n",
        "  a = b;\n",
        "  b = temp;\n",
        "}\n",
        "\n",
        "void SwapRef(int& a, int& b)\n",
        "{\n",
        "  cout << \"SwapRef 内 a:\" << a << \" / b:\" << b << endl;\n",
        "  int temp = a;\n",
        "  a = b;\n",
        "  b = temp;\n",
        "}\n",
        "\n",
        "int main() {\n",
        "  cout << \"Hello World!\" << endl;\n",
        "  int a = 100;\n",
        "  int b = 200;\n",
        "  Swap(a, b);\n",
        "  cout << a << \" / \" << b << endl;\n",
        "  SwapRef(a, b);\n",
        "  cout << a << \" / \" << b << endl;\n",
        "  return 0;\n",
        "}"
      ],
      "metadata": {
        "colab": {
          "base_uri": "https://localhost:8080/"
        },
        "id": "QpL-JiryEpkC",
        "outputId": "63ea6974-a062-4ce2-fd3a-408e0bf148f0"
      },
      "execution_count": null,
      "outputs": [
        {
          "output_type": "stream",
          "name": "stdout",
          "text": [
            "Overwriting temp.cpp\n"
          ]
        }
      ]
    },
    {
      "cell_type": "code",
      "source": [
        "!g++ temp.cpp; ./a.out"
      ],
      "metadata": {
        "colab": {
          "base_uri": "https://localhost:8080/"
        },
        "id": "RM5R4yiGEwpE",
        "outputId": "e1ee076f-e700-4a6a-9e3f-dd91aebf18d3"
      },
      "execution_count": null,
      "outputs": [
        {
          "output_type": "stream",
          "name": "stdout",
          "text": [
            "Hello World!\n",
            "Swap 内 a:100 / b:200\n",
            "100 / 200\n",
            "SwapRef 内 a:100 / b:200\n",
            "200 / 100\n"
          ]
        }
      ]
    },
    {
      "cell_type": "markdown",
      "source": [
        "## ポインタ\n",
        "\n",
        "- アドレス演算子 (`address-of`) `&` は**変数のアドレスに問い合わせる**\n",
        "- アドレスを取得するには変数の直前に 1 個の `&` を置く\n",
        "- ポインタ (`pointer`) は、メモリアドレスに対応する整数値を格納する**変数**\n",
        "- 型の直後にある `*` がポインタであることを示す\n",
        "- `*` 演算子は、ポインタの間接参照 (`dereference`) も行う\n",
        "- ポインタの間接参照は、**そのポインタが指し示すメモリにアクセスする**\n",
        "- 何も指し示していないポインタはヌルポインタ (`null pointer`) \n",
        "- ポインタをヌルで初期化するには `nullptr` キーワードを使う\n",
        "- ヌルポインタを参照すると、プログラムはクラッシュし、「アクセス違反」か「セグメンテーションフォールト」となる"
      ],
      "metadata": {
        "id": "IEDs0uRf8kKu"
      }
    },
    {
      "cell_type": "code",
      "source": [
        "%%writefile temp.cpp\n",
        "#include <iostream>\n",
        "using namespace std;\n",
        "\n",
        "int main() {\n",
        "  int y = 100;\n",
        "  cout << &y << endl;\n",
        "\n",
        "  int* p = &y; // y のメモリアドレスをポインタ p の値として格納\n",
        "  cout << p << endl; \n",
        "\n",
        "  *p = 42; // ポインタ p の値が指し示すメモリアドレスに 42 という値を格納\n",
        "\n",
        "  cout << y << endl;\n",
        "  cout << *p << endl;\n",
        "  return 0;   \n",
        "}"
      ],
      "metadata": {
        "colab": {
          "base_uri": "https://localhost:8080/"
        },
        "id": "Bj1Ldz5a87DJ",
        "outputId": "4cb08378-dc1d-4755-82df-4a866735237a"
      },
      "execution_count": null,
      "outputs": [
        {
          "output_type": "stream",
          "name": "stdout",
          "text": [
            "Overwriting temp.cpp\n"
          ]
        }
      ]
    },
    {
      "cell_type": "code",
      "source": [
        "!g++ temp.cpp; ./a.out"
      ],
      "metadata": {
        "colab": {
          "base_uri": "https://localhost:8080/"
        },
        "id": "BLnSCLTj9Ixu",
        "outputId": "ac9aed9b-5936-4b51-a6eb-d4cc137ec49c"
      },
      "execution_count": null,
      "outputs": [
        {
          "output_type": "stream",
          "name": "stdout",
          "text": [
            "0x7ffc2a08c4cc\n",
            "0x7ffc2a08c4cc\n",
            "42\n",
            "42\n"
          ]
        }
      ]
    },
    {
      "cell_type": "markdown",
      "source": [
        "### ポインタと参照\n",
        "\n",
        "- C には参照が無い。よって、参照渡しが C には存在しない。\n",
        "- 参照を使う代わりにポインタを使う必要がある。\n",
        "\n",
        "```cpp\n",
        "void Swap(int* a, int* b) {\n",
        "  int temp = *a;\n",
        "  *a = *b;\n",
        "  *b = temp;\n",
        "}\n",
        "\n",
        "int x = 20;\n",
        "int y = 37;\n",
        "Swap(&x, &y);\n",
        "```\n",
        "\n",
        "- 上記の通り、ポインタ渡しの関数に変数を渡す際には、メモリアドレスを渡す必要があるため、アドレス演算子 `&` を利用する必要がある"
      ],
      "metadata": {
        "id": "TMGGEW-8CIYP"
      }
    },
    {
      "cell_type": "markdown",
      "source": [
        "## 配列\n",
        "\n",
        "- 同じ型の要素を集めたコレクション\n",
        "- デフォルトでは初期化されない\n",
        "- 配列の各要素を個別に初期化することは可能だが、初期化子 (`initializer`) の構文かループを使うほうが便利\n",
        "- 配列は連続したメモリ。つまり、インデックス0のデータの直後にインデックス1のデータがある\n",
        "- 添字の無い配列はインデックス 0 のメモリアドレスを参照している\n",
        "- よって、一次元配列は 1 個のポインタ経由で関数に渡すことができる\n"
      ],
      "metadata": {
        "id": "DTrvi4JaAxOP"
      }
    },
    {
      "cell_type": "code",
      "source": [
        "%%writefile temp.cpp\n",
        "#include <iostream>\n",
        "using namespace std;\n",
        "\n",
        "// ポインタとして受け取る場合は [] でも * でも可能\n",
        "void CoutArray20(int a[]) {\n",
        "  cout << a[20] << endl;\n",
        "}\n",
        "\n",
        "void CoutArray30(int* a) {\n",
        "  cout << a[30] << endl;\n",
        "}\n",
        "\n",
        "int main() {\n",
        "  int fib[5] = { 0, 1, 1, 2, 3 };\n",
        "  cout << fib[3] << endl;\n",
        "\n",
        "  int array[50];\n",
        "  for (int i = 0; i < 50; i++) {\n",
        "    array[i] = i + 1;\n",
        "  }\n",
        "\n",
        "  cout << array[41] << endl;\n",
        "  \n",
        "  cout << array << endl; // array 自体はインデックス 0 のメモリアドレス\n",
        "  cout << &array[0] << endl;\n",
        "  cout << &array[1] << endl;\n",
        "  cout << &array[2] << endl;\n",
        "\n",
        "  CoutArray20(array);\n",
        "  CoutArray30(array);\n",
        "  return 0;   \n",
        "}"
      ],
      "metadata": {
        "colab": {
          "base_uri": "https://localhost:8080/"
        },
        "id": "mPtA_0fwBKCj",
        "outputId": "251b4d5c-3433-4914-f542-032e23c25536"
      },
      "execution_count": null,
      "outputs": [
        {
          "output_type": "stream",
          "name": "stdout",
          "text": [
            "Overwriting temp.cpp\n"
          ]
        }
      ]
    },
    {
      "cell_type": "code",
      "source": [
        "!g++ temp.cpp; ./a.out"
      ],
      "metadata": {
        "colab": {
          "base_uri": "https://localhost:8080/"
        },
        "id": "v3gZz2dGBVkc",
        "outputId": "564a48c0-b4aa-4f0f-ffe3-a13dcb1cb6dc"
      },
      "execution_count": null,
      "outputs": [
        {
          "output_type": "stream",
          "name": "stdout",
          "text": [
            "2\n",
            "42\n",
            "0x7ffd2dce70a0\n",
            "0x7ffd2dce70a0\n",
            "0x7ffd2dce70a4\n",
            "0x7ffd2dce70a8\n",
            "21\n",
            "31\n"
          ]
        }
      ]
    },
    {
      "cell_type": "markdown",
      "source": [
        "### 多次元の配列"
      ],
      "metadata": {
        "id": "TiJW5QG8E_ah"
      }
    },
    {
      "cell_type": "code",
      "source": [
        "%%writefile temp.cpp\n",
        "#include <iostream>\n",
        "using namespace std;\n",
        "\n",
        "// 先頭は省略可\n",
        "void CoutArray0x2(float a[][3]) {\n",
        "  cout << a[0][2] << endl;\n",
        "}\n",
        "\n",
        "void CoutArray1x0(float a[3][3]) {\n",
        "  cout << a[1][0] << endl;\n",
        "}\n",
        "\n",
        "// これはできない\n",
        "//void CoutArray1x1(float a[][]) {\n",
        "//void CoutArray1x1(float* a) {\n",
        "\n",
        "\n",
        "int main() {\n",
        "  float matrix[3][3] = { { 1, 2, 3 }, { 6, 5, 4 } }; // 3x3 の宣言だがあえて、2x3 で初期化\n",
        "  \n",
        "  cout << matrix << endl;\n",
        "  cout << matrix[0][0] << endl;\n",
        "  cout << matrix[0][1] << endl;\n",
        "  cout << matrix[0][2] << endl;\n",
        "  cout << matrix[1][0] << endl;\n",
        "  cout << matrix[1][1] << endl;\n",
        "  cout << matrix[1][2] << endl;\n",
        "  cout << matrix[2][0] << endl; // 足りない要素は 0 になる\n",
        "\n",
        "  cout << &matrix[0][0] << endl;\n",
        "  cout << &matrix[0][1] << endl;\n",
        "  cout << &matrix[0][2] << endl;\n",
        "  cout << &matrix[1][0] << endl;\n",
        "  cout << &matrix[1][1] << endl;\n",
        "  cout << &matrix[1][2] << endl;\n",
        "  cout << &matrix[2][0] << endl; // 足りない要素もメモリは確保されている\n",
        "\n",
        "  CoutArray0x2(matrix);\n",
        "  CoutArray1x0(matrix);\n",
        "  return 0;\n",
        "}"
      ],
      "metadata": {
        "colab": {
          "base_uri": "https://localhost:8080/"
        },
        "id": "JLIeAgozFC9S",
        "outputId": "bbdf34ad-c0c3-4194-b198-adc342536c4b"
      },
      "execution_count": null,
      "outputs": [
        {
          "output_type": "stream",
          "name": "stdout",
          "text": [
            "Overwriting temp.cpp\n"
          ]
        }
      ]
    },
    {
      "cell_type": "code",
      "source": [
        "!g++ temp.cpp; ./a.out"
      ],
      "metadata": {
        "colab": {
          "base_uri": "https://localhost:8080/"
        },
        "id": "dYm-iN6fFnIs",
        "outputId": "bc55c72f-d644-4a20-d16d-9624c91869cb"
      },
      "execution_count": null,
      "outputs": [
        {
          "output_type": "stream",
          "name": "stdout",
          "text": [
            "0x7ffc58ffadf0\n",
            "1\n",
            "2\n",
            "3\n",
            "6\n",
            "5\n",
            "4\n",
            "0\n",
            "0x7ffc58ffadf0\n",
            "0x7ffc58ffadf4\n",
            "0x7ffc58ffadf8\n",
            "0x7ffc58ffadfc\n",
            "0x7ffc58ffae00\n",
            "0x7ffc58ffae04\n",
            "0x7ffc58ffae08\n",
            "3\n",
            "6\n"
          ]
        }
      ]
    },
    {
      "cell_type": "markdown",
      "source": [
        "## 動的メモリ割り当て\n",
        "\n",
        "- ローカル変数のメモリ割り当ては自動的に行われ、変数はスタックメモリに置かれる\n",
        "- しかし、スタックはメモリ量に制限があり、ローカル変数自体は存続期間もスコープに限られる\n",
        "- 動的メモリ割り当て (`dynamic memory allocation`) では、変数のメモリ割り当てと解除をプログラミングで管理する\n",
        "- この場合は、ヒープ (`heap`) 領域に置かれるため容量が大きくなる反面、解除を忘れるとリークが起こる\n",
        "- ヒープに割り当てるには `new` を使い、解除には `delete` を使う\n",
        "- `new`、`delete` にはメモリ割り当て、解除以外に、クラス/構造体のコンストラクタ、デストラクタの呼び出しも行う\n",
        "\n",
        "```cpp\n",
        "int dynamicInt = new int;\n",
        "delete int;\n",
        "\n",
        "char* dynArray = new char[4*1024*1024];\n",
        "dynArray[0] = 32;\n",
        "delete[] dynArray;\n",
        "```"
      ],
      "metadata": {
        "id": "u0JS3LYeCrHu"
      }
    },
    {
      "cell_type": "markdown",
      "source": [
        "## 参照、const、クラス\n",
        "\n",
        "- 関数に基本型以外のオブジェクトを渡す場合は、コピーを防ぐため参照、またはポインタで渡すのが望ましい\n",
        "- ただし、参照で渡すと引数の書き換えを許すことになる\n",
        "- この問題の解決として 2 つの方法を覚えておく\n",
        "  1. 関数に渡す参照を **const参照** にする\n",
        "  2. メンバー関数がメンバーデータを書き換えないことを保証する場合には、**constメンバー関数**にする\n",
        "- 動的にクラスを割り当てる場合も同様に `new` を使う\n",
        "- `new` が返すのはオブジェクトへのポインタである\n",
        "- ポインタに対しては `->` 演算子で public なメンバーにアクセスできる\n",
        "\n",
        "\n",
        "- [C++ 値渡し、ポインタ渡し、参照渡しを使い分けよう - Qiita](https://qiita.com/agate-pris/items/05948b7d33f3e88b8967)\n",
        "- [C++ アロー演算子(->)とドット演算子(.)の違い - Qiita](https://qiita.com/kkent030315/items/b702945be1be66f590c4)"
      ],
      "metadata": {
        "id": "QhrN1gonEyx4"
      }
    },
    {
      "cell_type": "code",
      "source": [
        "%%writefile temp.cpp\n",
        "#include <iostream>\n",
        "using namespace std;\n",
        "\n",
        "class User {\n",
        "public:\n",
        "  int GetAge() const { return mAge; }\n",
        "  void SetAge(int newAge) { mAge = newAge; }\n",
        "  void SetAgeConst(int newAge) const { \n",
        "    //mAge = newAge; // constメンバー関数なので変更は許可されない\n",
        "    cout << newAge << \" / \" << mAge << endl;\n",
        "  }\n",
        "private:\n",
        "  int mAge;\n",
        "};\n",
        "\n",
        "void SetNewAge(User& user, int newAge) {\n",
        "  user.SetAge(newAge);\n",
        "}\n",
        "\n",
        "void SetNewAgeConst(const User& user, int newAge) {\n",
        "  //user.SetAge(newAge); // const参照なので変更は許可されない\n",
        "  user.GetAge();\n",
        "}\n",
        "\n",
        "// 書き方が異なるだけで上と同じ\n",
        "void SetNewAgeConst2(User const& user, int newAge) {\n",
        "  //user.SetAge(newAge); // const参照なので変更は許可されない\n",
        "  user.GetAge();\n",
        "}\n",
        "\n",
        "int main() {\n",
        "  User* user = new User();\n",
        "  cout << user << endl; // new はメモリの確保なので、入っている値はメモリアドレス\n",
        "  \n",
        "  user->SetAge(10); // ポインタの状態ではアローでアクセス\n",
        "\n",
        "  (*user).SetAge(20); // 間接参照すれば . でアクセス\n",
        "\n",
        "  User& userRef = *user; // もちろん一度変数で受けてもいい\n",
        "  userRef.SetAge(30);\n",
        "\n",
        "  cout << user->GetAge() << endl;\n",
        "  SetNewAge(*user, 15); // 参照を渡すので間接参照\n",
        "  cout << user->GetAge() << endl;\n",
        "\n",
        "  SetNewAgeConst(*user, 18);\n",
        "  SetNewAgeConst2(*user, 18);\n",
        "\n",
        "  user->SetAgeConst(10);\n",
        "  return 0;\n",
        "}"
      ],
      "metadata": {
        "colab": {
          "base_uri": "https://localhost:8080/"
        },
        "id": "j_J6-BZGFkIA",
        "outputId": "0bb526c4-92cc-4647-f46e-12ada29d05d0"
      },
      "execution_count": null,
      "outputs": [
        {
          "output_type": "stream",
          "name": "stdout",
          "text": [
            "Overwriting temp.cpp\n"
          ]
        }
      ]
    },
    {
      "cell_type": "code",
      "source": [
        "!g++ temp.cpp; ./a.out"
      ],
      "metadata": {
        "colab": {
          "base_uri": "https://localhost:8080/"
        },
        "id": "07YE2YKQFp2h",
        "outputId": "7d835b25-bf5e-4b13-ef1c-442d1965352f"
      },
      "execution_count": null,
      "outputs": [
        {
          "output_type": "stream",
          "name": "stdout",
          "text": [
            "0x55a302844008\n",
            "30\n",
            "15\n",
            "10 / 15\n"
          ]
        }
      ]
    },
    {
      "cell_type": "markdown",
      "source": [
        "## イテレータ"
      ],
      "metadata": {
        "id": "dmJLJ3R0h4wz"
      }
    },
    {
      "cell_type": "code",
      "source": [
        "%%writefile temp.cpp\n",
        "#include <iostream>\n",
        "#include <list>\n",
        "#include <map>\n",
        "using namespace std;\n",
        "\n",
        "int main() {\n",
        "  std::list<int> myList;\n",
        "  myList.push_back(4);\n",
        "  myList.push_back(5);\n",
        "  myList.push_back(6);\n",
        "\n",
        "  // auto を使わない場合は std::list<int>::iterator が型になる\n",
        "  for (auto iter = myList.begin(); iter != myList.end(); ++iter) {\n",
        "    cout << *iter << endl; // iterator の場合はポインタ\n",
        "  }\n",
        "\n",
        "  // 範囲 for 文でもOK\n",
        "  for (auto n : myList) {\n",
        "    cout << n << endl;\n",
        "  }\n",
        "\n",
        "  // 参照渡しも可能\n",
        "  for (auto& n : myList) {\n",
        "    n = n + 1;\n",
        "  }\n",
        "\n",
        "  for (auto n : myList) {\n",
        "    cout << n << endl;\n",
        "  }\n",
        "\n",
        "  // const参照にすれば読み取りのみになる\n",
        "  for (auto const& n : myList) {\n",
        "    //n = n + 1;\n",
        "  }\n",
        "\n",
        "  std::map<int, std::string> months;\n",
        "  months.emplace(1, \"January\");\n",
        "  months.emplace(2, \"February\");\n",
        "  months.emplace(3, \"March\");\n",
        "\n",
        "  for (auto pair : months) {\n",
        "    cout << pair.first << \" / \" << pair.second << endl;\n",
        "  }\n",
        "  return 0;\n",
        "}"
      ],
      "metadata": {
        "colab": {
          "base_uri": "https://localhost:8080/"
        },
        "id": "5Y9WSmnVh6yK",
        "outputId": "60d8222f-4792-4b69-c85c-7de439fec511"
      },
      "execution_count": null,
      "outputs": [
        {
          "output_type": "stream",
          "name": "stdout",
          "text": [
            "Overwriting temp.cpp\n"
          ]
        }
      ]
    },
    {
      "cell_type": "code",
      "source": [
        "!g++ temp.cpp; ./a.out"
      ],
      "metadata": {
        "colab": {
          "base_uri": "https://localhost:8080/"
        },
        "id": "sepSFBq8h_J1",
        "outputId": "f969de47-e08b-4573-9039-05384a58705b"
      },
      "execution_count": null,
      "outputs": [
        {
          "output_type": "stream",
          "name": "stdout",
          "text": [
            "4\n",
            "5\n",
            "6\n",
            "4\n",
            "5\n",
            "6\n",
            "5\n",
            "6\n",
            "7\n",
            "1 / January\n",
            "2 / February\n",
            "3 / March\n"
          ]
        }
      ]
    }
  ]
}