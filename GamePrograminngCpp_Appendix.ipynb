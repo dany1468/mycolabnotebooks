{
  "nbformat": 4,
  "nbformat_minor": 0,
  "metadata": {
    "colab": {
      "name": "GamePrograminngCpp_Appendix.ipynb",
      "provenance": [],
      "collapsed_sections": [],
      "authorship_tag": "ABX9TyN3wCc5tOPF7DaO2xxqDoK+",
      "include_colab_link": true
    },
    "kernelspec": {
      "name": "python3",
      "display_name": "Python 3"
    },
    "language_info": {
      "name": "python"
    }
  },
  "cells": [
    {
      "cell_type": "markdown",
      "metadata": {
        "id": "view-in-github",
        "colab_type": "text"
      },
      "source": [
        "<a href=\"https://colab.research.google.com/github/dany1468/mycolabnotebooks/blob/main/GamePrograminngCpp_Appendix.ipynb\" target=\"_parent\"><img src=\"https://colab.research.google.com/assets/colab-badge.svg\" alt=\"Open In Colab\"/></a>"
      ]
    },
    {
      "cell_type": "code",
      "execution_count": 1,
      "metadata": {
        "colab": {
          "base_uri": "https://localhost:8080/"
        },
        "id": "SDSQDMj9CDag",
        "outputId": "b94ca06c-2b57-4d48-ec8f-11804136e072"
      },
      "outputs": [
        {
          "output_type": "stream",
          "name": "stdout",
          "text": [
            "g++ (Ubuntu 7.5.0-3ubuntu1~18.04) 7.5.0\n",
            "Copyright (C) 2017 Free Software Foundation, Inc.\n",
            "This is free software; see the source for copying conditions.  There is NO\n",
            "warranty; not even for MERCHANTABILITY or FITNESS FOR A PARTICULAR PURPOSE.\n",
            "\n"
          ]
        }
      ],
      "source": [
        "!g++ --version"
      ]
    },
    {
      "cell_type": "markdown",
      "source": [
        "## 引数の参照渡しの確認"
      ],
      "metadata": {
        "id": "-wSA24Ca8T3k"
      }
    },
    {
      "cell_type": "code",
      "source": [
        "%%writefile temp.cpp\n",
        "#include <iostream>\n",
        "using namespace std;\n",
        "\n",
        "void Swap(int a, int b)\n",
        "{\n",
        "  int temp = a;\n",
        "  a = b;\n",
        "  b = temp;\n",
        "}\n",
        "\n",
        "void SwapRef(int& a, int& b)\n",
        "{\n",
        "  int temp = a;\n",
        "  a = b;\n",
        "  b = temp;\n",
        "}\n",
        "\n",
        "int main() {\n",
        "  cout << \"Hello World!\" << endl;\n",
        "  int a = 100;\n",
        "  int b = 200;\n",
        "  Swap(a, b);\n",
        "  cout << a << \" / \" << b << endl;\n",
        "  SwapRef(a, b);\n",
        "  cout << a << \" / \" << b << endl;\n",
        "  return 0;\n",
        "}"
      ],
      "metadata": {
        "colab": {
          "base_uri": "https://localhost:8080/"
        },
        "id": "QpL-JiryEpkC",
        "outputId": "a6977973-a0e4-465e-cba3-b5783097fb3b"
      },
      "execution_count": 10,
      "outputs": [
        {
          "output_type": "stream",
          "name": "stdout",
          "text": [
            "Overwriting temp.cpp\n"
          ]
        }
      ]
    },
    {
      "cell_type": "code",
      "source": [
        "!g++ temp.cpp; ./a.out"
      ],
      "metadata": {
        "colab": {
          "base_uri": "https://localhost:8080/"
        },
        "id": "RM5R4yiGEwpE",
        "outputId": "65f95a3a-a9b8-4c4d-a75e-e0251af65ac9"
      },
      "execution_count": 11,
      "outputs": [
        {
          "output_type": "stream",
          "name": "stdout",
          "text": [
            "Hello World!\n",
            "100 / 200\n",
            "200 / 100\n"
          ]
        }
      ]
    },
    {
      "cell_type": "markdown",
      "source": [
        "## ポインタ\n",
        "\n",
        "- アドレス演算子 (`address-of`) `&` は**変数のアドレスに問い合わせる**\n",
        "- アドレスを取得するには変数の直前に 1 個の `&` を置く\n",
        "- ポインタ (`pointer`) は、メモリアドレスに対応する整数値を格納する**変数**\n",
        "- 型の直後にある `*` がポインタであることを示す\n",
        "- `*` 演算子は、ポインタの間接参照 (`dereference`) も行う\n",
        "- ポインタの間接参照は、**そのポインタが指し示すメモリにアクセスする**"
      ],
      "metadata": {
        "id": "IEDs0uRf8kKu"
      }
    },
    {
      "cell_type": "code",
      "source": [
        "%%writefile temp.cpp\n",
        "#include <iostream>\n",
        "using namespace std;\n",
        "\n",
        "int main() {\n",
        "  int y = 100;\n",
        "  cout << &y << endl;\n",
        "\n",
        "  int* p = &y; // y のメモリアドレスをポインタ p の値として格納\n",
        "  cout << p << endl; \n",
        "\n",
        "  *p = 42; // ポインタ p の値が指し示すメモリアドレスに 42 という値を格納\n",
        "\n",
        "  cout << y << endl;\n",
        "  cout << *p << endl;\n",
        "  return 0;   \n",
        "}"
      ],
      "metadata": {
        "colab": {
          "base_uri": "https://localhost:8080/"
        },
        "id": "Bj1Ldz5a87DJ",
        "outputId": "4cb08378-dc1d-4755-82df-4a866735237a"
      },
      "execution_count": 13,
      "outputs": [
        {
          "output_type": "stream",
          "name": "stdout",
          "text": [
            "Overwriting temp.cpp\n"
          ]
        }
      ]
    },
    {
      "cell_type": "code",
      "source": [
        "!g++ temp.cpp; ./a.out"
      ],
      "metadata": {
        "colab": {
          "base_uri": "https://localhost:8080/"
        },
        "id": "BLnSCLTj9Ixu",
        "outputId": "ac9aed9b-5936-4b51-a6eb-d4cc137ec49c"
      },
      "execution_count": 14,
      "outputs": [
        {
          "output_type": "stream",
          "name": "stdout",
          "text": [
            "0x7ffc2a08c4cc\n",
            "0x7ffc2a08c4cc\n",
            "42\n",
            "42\n"
          ]
        }
      ]
    }
  ]
}